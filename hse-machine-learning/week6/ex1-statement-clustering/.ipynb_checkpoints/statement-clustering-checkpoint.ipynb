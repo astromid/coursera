{
 "cells": [
  {
   "cell_type": "code",
   "execution_count": 1,
   "metadata": {
    "collapsed": true
   },
   "outputs": [],
   "source": [
    "import numpy as np\n",
    "import pandas as pd\n",
    "from sklearn.cluster import KMeans\n",
    "from skimage.io import imread\n",
    "from skimage import img_as_float"
   ]
  },
  {
   "cell_type": "code",
   "execution_count": 2,
   "metadata": {
    "collapsed": false
   },
   "outputs": [],
   "source": [
    "# image reading\n",
    "img = imread('parrots.jpg')\n",
    "img_float = img_as_float(img)\n",
    "Nx, Ny, Nz = img_float.shape\n",
    "# constructing feature matrix\n",
    "rgb = img_float.reshape((Nx * Ny, Nz))"
   ]
  },
  {
   "cell_type": "code",
   "execution_count": 3,
   "metadata": {
    "collapsed": true
   },
   "outputs": [],
   "source": [
    "# PSNR metric\n",
    "def PSNR(img1, img2):\n",
    "    MSE = np.mean( (img1 - img2)**2)\n",
    "    PSNR = 10 * np.log10(np.max(img1) / MSE)\n",
    "    return PSNR"
   ]
  },
  {
   "cell_type": "code",
   "execution_count": 8,
   "metadata": {
    "collapsed": false
   },
   "outputs": [
    {
     "name": "stdout",
     "output_type": "stream",
     "text": [
      "cl_num = 9\n",
      "KMeans fitted\n",
      "cluster 0 completed\n",
      "cluster 1 completed\n",
      "cluster 2 completed\n",
      "cluster 3 completed\n",
      "cluster 4 completed\n",
      "cluster 5 completed\n",
      "cluster 6 completed\n",
      "cluster 7 completed\n",
      "cluster 8 completed\n",
      "cl_num = 10\n",
      "KMeans fitted\n",
      "cluster 0 completed\n",
      "cluster 1 completed\n",
      "cluster 2 completed\n",
      "cluster 3 completed\n",
      "cluster 4 completed\n",
      "cluster 5 completed\n",
      "cluster 6 completed\n",
      "cluster 7 completed\n",
      "cluster 8 completed\n",
      "cluster 9 completed\n",
      "cl_num = 11\n",
      "KMeans fitted\n",
      "cluster 0 completed\n",
      "cluster 1 completed\n",
      "cluster 2 completed\n",
      "cluster 3 completed\n",
      "cluster 4 completed\n",
      "cluster 5 completed\n",
      "cluster 6 completed\n",
      "cluster 7 completed\n",
      "cluster 8 completed\n",
      "cluster 9 completed\n",
      "cluster 10 completed\n"
     ]
    }
   ],
   "source": [
    "# number of clusters loop & answer for 1st question\n",
    "# last number of clusters will be answer\n",
    "for cl_num in range(9, 21):\n",
    "    print('cl_num = {}'.format(cl_num))\n",
    "    kM = KMeans(n_clusters=cl_num, init='k-means++', random_state=241)\n",
    "    kM.fit(rgb)\n",
    "    print('KMeans fitted')\n",
    "    t = np.transpose(np.vstack([kM.labels_, rgb[:,0], rgb[:, 1], rgb[:, 2]]))\n",
    "    df = pd.DataFrame(t, columns=['cl', 'r', 'g', 'b'])\n",
    "    medians = {}\n",
    "    means = {}\n",
    "    for i in range(int(df.cl.max()) + 1):\n",
    "        data = df[df.cl == i].drop('cl', axis=1)\n",
    "        means[i] = data.mean().values\n",
    "        medians[i] = data.median().values\n",
    "        print('cluster {} completed'.format(i))\n",
    "    med_df = df.copy()\n",
    "    mean_df = df.copy()\n",
    "    for i in range(df.shape[0]):\n",
    "        mean_df.r[i], mean_df.g[i], mean_df.b[i] = means[int(df.cl[i])]\n",
    "        med_df.r[i], med_df.g[i], med_df.b[i] = medians[int(df.cl[i])]\n",
    "    PSNR_mean = PSNR(rgb, mean_df.drop('cl', axis=1).values)\n",
    "    PSNR_med = PSNR(rgb, med_df.drop('cl', axis=1).values)\n",
    "    if( PSNR_mean > 20 or PSNR_med > 20):\n",
    "        break"
   ]
  }
 ],
 "metadata": {
  "anaconda-cloud": {},
  "kernelspec": {
   "display_name": "Python [conda root]",
   "language": "python",
   "name": "conda-root-py"
  },
  "language_info": {
   "codemirror_mode": {
    "name": "ipython",
    "version": 3
   },
   "file_extension": ".py",
   "mimetype": "text/x-python",
   "name": "python",
   "nbconvert_exporter": "python",
   "pygments_lexer": "ipython3",
   "version": "3.5.2"
  }
 },
 "nbformat": 4,
 "nbformat_minor": 1
}
