{
 "cells": [
  {
   "cell_type": "code",
   "execution_count": 57,
   "metadata": {
    "collapsed": true
   },
   "outputs": [],
   "source": [
    "import numpy as np\n",
    "import pandas\n",
    "import sklearn.model_selection\n",
    "import sklearn.neighbors\n",
    "import sklearn.preprocessing"
   ]
  },
  {
   "cell_type": "code",
   "execution_count": 34,
   "metadata": {
    "collapsed": false
   },
   "outputs": [],
   "source": [
    "# names of the features from wine.names\n",
    "features = ['Class', 'Alcohol', 'Malic acid', 'Ash', 'Alcalinity of ash', 'Magnesium', 'Total phenols', 'Flavanoids', \\\n",
    "           'Nonflavanoid phenols', 'Proanthocyanins', 'Color intensity', 'Hue', 'OD280/OD315 of diluted wines', 'Proline']\n",
    "# data reading\n",
    "data = pandas.read_csv('wine.data', header=None, names=features)\n",
    "# extract target and features\n",
    "target = data['Class']\n",
    "features = data.drop('Class', axis=1)"
   ]
  },
  {
   "cell_type": "code",
   "execution_count": 52,
   "metadata": {
    "collapsed": false
   },
   "outputs": [],
   "source": [
    "fold = sklearn.model_selection.KFold(n_splits=5, shuffle=True, random_state=42)\n",
    "# array for final cv's\n",
    "cv = [0]\n",
    "for k in range(1,51):\n",
    "    k_cf = sklearn.neighbors.KNeighborsClassifier(k)\n",
    "    cv_k = sklearn.model_selection.cross_val_score(k_cf, X=features, y=target, cv=fold)\n",
    "    cv.append(cv_k.mean())\n",
    "    "
   ]
  },
  {
   "cell_type": "code",
   "execution_count": 56,
   "metadata": {
    "collapsed": false
   },
   "outputs": [
    {
     "data": {
      "text/plain": [
       "(1, 0.7304761904761905)"
      ]
     },
     "execution_count": 56,
     "metadata": {},
     "output_type": "execute_result"
    }
   ],
   "source": [
    "# answer for 1st and 2nd questions\n",
    "(cv.index(max(cv)), max(cv))"
   ]
  },
  {
   "cell_type": "code",
   "execution_count": 63,
   "metadata": {
    "collapsed": false
   },
   "outputs": [],
   "source": [
    "# feature scaling\n",
    "features_scaled = sklearn.preprocessing.scale(features)\n",
    "# array for final cv's\n",
    "cv_scaled = [0]\n",
    "for k in range(1,51):\n",
    "    k_cf = sklearn.neighbors.KNeighborsClassifier(k)\n",
    "    cv_k = sklearn.model_selection.cross_val_score(k_cf, X=features_scaled, y=target, cv=fold)\n",
    "    cv_scaled.append(cv_k.mean())"
   ]
  },
  {
   "cell_type": "code",
   "execution_count": 64,
   "metadata": {
    "collapsed": false
   },
   "outputs": [
    {
     "data": {
      "text/plain": [
       "(29, 0.9776190476190475)"
      ]
     },
     "execution_count": 64,
     "metadata": {},
     "output_type": "execute_result"
    }
   ],
   "source": [
    "# answer for 3rd and 4th questions\n",
    "(cv_scaled.index(max(cv_scaled)), max(cv_scaled))"
   ]
  },
  {
   "cell_type": "code",
   "execution_count": null,
   "metadata": {
    "collapsed": true
   },
   "outputs": [],
   "source": []
  }
 ],
 "metadata": {
  "anaconda-cloud": {},
  "kernelspec": {
   "display_name": "Python [conda root]",
   "language": "python",
   "name": "conda-root-py"
  },
  "language_info": {
   "codemirror_mode": {
    "name": "ipython",
    "version": 3
   },
   "file_extension": ".py",
   "mimetype": "text/x-python",
   "name": "python",
   "nbconvert_exporter": "python",
   "pygments_lexer": "ipython3",
   "version": "3.5.2"
  }
 },
 "nbformat": 4,
 "nbformat_minor": 1
}
