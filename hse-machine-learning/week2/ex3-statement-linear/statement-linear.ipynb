{
 "cells": [
  {
   "cell_type": "code",
   "execution_count": 30,
   "metadata": {
    "collapsed": true
   },
   "outputs": [],
   "source": [
    "import numpy as np\n",
    "import sklearn.linear_model\n",
    "import sklearn.preprocessing\n",
    "import sklearn.metrics\n",
    "import pandas"
   ]
  },
  {
   "cell_type": "code",
   "execution_count": 31,
   "metadata": {
    "collapsed": false
   },
   "outputs": [],
   "source": [
    "# data reading\n",
    "train_data = pandas.read_csv('perceptron-train.csv', header=None)\n",
    "test_data = pandas.read_csv('perceptron-test.csv', header=None)"
   ]
  },
  {
   "cell_type": "code",
   "execution_count": 32,
   "metadata": {
    "collapsed": false
   },
   "outputs": [],
   "source": [
    "# features and target extraction\n",
    "train_target = train_data[0]\n",
    "test_target = test_data[0]\n",
    "train_features = train_data.drop(0, axis=1)\n",
    "test_features = test_data.drop(0, axis=1)"
   ]
  },
  {
   "cell_type": "code",
   "execution_count": 33,
   "metadata": {
    "collapsed": false
   },
   "outputs": [],
   "source": [
    "# perceptron learinig without feature scaling\n",
    "pcn = sklearn.linear_model.Perceptron(random_state=241)\n",
    "pcn.fit(train_features, train_target)\n",
    "predictions = pcn.predict(test_features)\n",
    "acc = sklearn.metrics.accuracy_score(test_target, predictions)"
   ]
  },
  {
   "cell_type": "code",
   "execution_count": 39,
   "metadata": {
    "collapsed": false
   },
   "outputs": [],
   "source": [
    "# feature scaling\n",
    "scaler = sklearn.preprocessing.StandardScaler()\n",
    "train_features_scaled = scaler.fit_transform(train_features)\n",
    "# test set scaling with parameters, found on train set\n",
    "test_features_scaled = scaler.transform(test_features)"
   ]
  },
  {
   "cell_type": "code",
   "execution_count": 40,
   "metadata": {
    "collapsed": false
   },
   "outputs": [],
   "source": [
    "# learning perceptron with feature scaling\n",
    "pcn2 = sklearn.linear_model.Perceptron(random_state=241)\n",
    "pcn2.fit(train_features_scaled, train_target)\n",
    "predictions2 = pcn2.predict(test_features_scaled)\n",
    "acc_scaled = sklearn.metrics.accuracy_score(test_target, predictions2)"
   ]
  },
  {
   "cell_type": "code",
   "execution_count": 44,
   "metadata": {
    "collapsed": false
   },
   "outputs": [
    {
     "name": "stdout",
     "output_type": "stream",
     "text": [
      "0.19\n"
     ]
    }
   ],
   "source": [
    "# answer for question\n",
    "delta = acc_scaled - acc\n",
    "print(delta)"
   ]
  },
  {
   "cell_type": "code",
   "execution_count": null,
   "metadata": {
    "collapsed": true
   },
   "outputs": [],
   "source": []
  }
 ],
 "metadata": {
  "anaconda-cloud": {},
  "kernelspec": {
   "display_name": "Python [conda root]",
   "language": "python",
   "name": "conda-root-py"
  },
  "language_info": {
   "codemirror_mode": {
    "name": "ipython",
    "version": 3
   },
   "file_extension": ".py",
   "mimetype": "text/x-python",
   "name": "python",
   "nbconvert_exporter": "python",
   "pygments_lexer": "ipython3",
   "version": "3.5.2"
  }
 },
 "nbformat": 4,
 "nbformat_minor": 1
}
