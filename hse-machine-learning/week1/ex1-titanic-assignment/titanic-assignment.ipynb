{
 "cells": [
  {
   "cell_type": "code",
   "execution_count": 2,
   "metadata": {
    "collapsed": true
   },
   "outputs": [],
   "source": [
    "import pandas\n",
    "# reading data from csv\n",
    "data = pandas.read_csv('titanic.csv', index_col = 'PassengerId')"
   ]
  },
  {
   "cell_type": "code",
   "execution_count": 3,
   "metadata": {
    "collapsed": false
   },
   "outputs": [
    {
     "data": {
      "text/html": [
       "<div>\n",
       "<table border=\"1\" class=\"dataframe\">\n",
       "  <thead>\n",
       "    <tr style=\"text-align: right;\">\n",
       "      <th></th>\n",
       "      <th>Survived</th>\n",
       "      <th>Pclass</th>\n",
       "      <th>Name</th>\n",
       "      <th>Sex</th>\n",
       "      <th>Age</th>\n",
       "      <th>SibSp</th>\n",
       "      <th>Parch</th>\n",
       "      <th>Ticket</th>\n",
       "      <th>Fare</th>\n",
       "      <th>Cabin</th>\n",
       "      <th>Embarked</th>\n",
       "    </tr>\n",
       "    <tr>\n",
       "      <th>PassengerId</th>\n",
       "      <th></th>\n",
       "      <th></th>\n",
       "      <th></th>\n",
       "      <th></th>\n",
       "      <th></th>\n",
       "      <th></th>\n",
       "      <th></th>\n",
       "      <th></th>\n",
       "      <th></th>\n",
       "      <th></th>\n",
       "      <th></th>\n",
       "    </tr>\n",
       "  </thead>\n",
       "  <tbody>\n",
       "    <tr>\n",
       "      <th>1</th>\n",
       "      <td>0</td>\n",
       "      <td>3</td>\n",
       "      <td>Braund, Mr. Owen Harris</td>\n",
       "      <td>male</td>\n",
       "      <td>22.0</td>\n",
       "      <td>1</td>\n",
       "      <td>0</td>\n",
       "      <td>A/5 21171</td>\n",
       "      <td>7.2500</td>\n",
       "      <td>NaN</td>\n",
       "      <td>S</td>\n",
       "    </tr>\n",
       "    <tr>\n",
       "      <th>2</th>\n",
       "      <td>1</td>\n",
       "      <td>1</td>\n",
       "      <td>Cumings, Mrs. John Bradley (Florence Briggs Th...</td>\n",
       "      <td>female</td>\n",
       "      <td>38.0</td>\n",
       "      <td>1</td>\n",
       "      <td>0</td>\n",
       "      <td>PC 17599</td>\n",
       "      <td>71.2833</td>\n",
       "      <td>C85</td>\n",
       "      <td>C</td>\n",
       "    </tr>\n",
       "    <tr>\n",
       "      <th>3</th>\n",
       "      <td>1</td>\n",
       "      <td>3</td>\n",
       "      <td>Heikkinen, Miss. Laina</td>\n",
       "      <td>female</td>\n",
       "      <td>26.0</td>\n",
       "      <td>0</td>\n",
       "      <td>0</td>\n",
       "      <td>STON/O2. 3101282</td>\n",
       "      <td>7.9250</td>\n",
       "      <td>NaN</td>\n",
       "      <td>S</td>\n",
       "    </tr>\n",
       "    <tr>\n",
       "      <th>4</th>\n",
       "      <td>1</td>\n",
       "      <td>1</td>\n",
       "      <td>Futrelle, Mrs. Jacques Heath (Lily May Peel)</td>\n",
       "      <td>female</td>\n",
       "      <td>35.0</td>\n",
       "      <td>1</td>\n",
       "      <td>0</td>\n",
       "      <td>113803</td>\n",
       "      <td>53.1000</td>\n",
       "      <td>C123</td>\n",
       "      <td>S</td>\n",
       "    </tr>\n",
       "    <tr>\n",
       "      <th>5</th>\n",
       "      <td>0</td>\n",
       "      <td>3</td>\n",
       "      <td>Allen, Mr. William Henry</td>\n",
       "      <td>male</td>\n",
       "      <td>35.0</td>\n",
       "      <td>0</td>\n",
       "      <td>0</td>\n",
       "      <td>373450</td>\n",
       "      <td>8.0500</td>\n",
       "      <td>NaN</td>\n",
       "      <td>S</td>\n",
       "    </tr>\n",
       "  </tbody>\n",
       "</table>\n",
       "</div>"
      ],
      "text/plain": [
       "             Survived  Pclass  \\\n",
       "PassengerId                     \n",
       "1                   0       3   \n",
       "2                   1       1   \n",
       "3                   1       3   \n",
       "4                   1       1   \n",
       "5                   0       3   \n",
       "\n",
       "                                                          Name     Sex   Age  \\\n",
       "PassengerId                                                                    \n",
       "1                                      Braund, Mr. Owen Harris    male  22.0   \n",
       "2            Cumings, Mrs. John Bradley (Florence Briggs Th...  female  38.0   \n",
       "3                                       Heikkinen, Miss. Laina  female  26.0   \n",
       "4                 Futrelle, Mrs. Jacques Heath (Lily May Peel)  female  35.0   \n",
       "5                                     Allen, Mr. William Henry    male  35.0   \n",
       "\n",
       "             SibSp  Parch            Ticket     Fare Cabin Embarked  \n",
       "PassengerId                                                          \n",
       "1                1      0         A/5 21171   7.2500   NaN        S  \n",
       "2                1      0          PC 17599  71.2833   C85        C  \n",
       "3                0      0  STON/O2. 3101282   7.9250   NaN        S  \n",
       "4                1      0            113803  53.1000  C123        S  \n",
       "5                0      0            373450   8.0500   NaN        S  "
      ]
     },
     "execution_count": 3,
     "metadata": {},
     "output_type": "execute_result"
    }
   ],
   "source": [
    "# how data looks like\n",
    "data.head()"
   ]
  },
  {
   "cell_type": "code",
   "execution_count": 4,
   "metadata": {
    "collapsed": false
   },
   "outputs": [
    {
     "data": {
      "text/plain": [
       "male      577\n",
       "female    314\n",
       "Name: Sex, dtype: int64"
      ]
     },
     "execution_count": 4,
     "metadata": {},
     "output_type": "execute_result"
    }
   ],
   "source": [
    "# answer for 1st question\n",
    "data['Sex'].value_counts()"
   ]
  },
  {
   "cell_type": "code",
   "execution_count": 5,
   "metadata": {
    "collapsed": false
   },
   "outputs": [
    {
     "data": {
      "text/plain": [
       "0    0.616162\n",
       "1    0.383838\n",
       "Name: Survived, dtype: float64"
      ]
     },
     "execution_count": 5,
     "metadata": {},
     "output_type": "execute_result"
    }
   ],
   "source": [
    "# answer for 2nd question\n",
    "data['Survived'].value_counts(True)"
   ]
  },
  {
   "cell_type": "code",
   "execution_count": 6,
   "metadata": {
    "collapsed": false
   },
   "outputs": [
    {
     "data": {
      "text/plain": [
       "3    0.551066\n",
       "1    0.242424\n",
       "2    0.206510\n",
       "Name: Pclass, dtype: float64"
      ]
     },
     "execution_count": 6,
     "metadata": {},
     "output_type": "execute_result"
    }
   ],
   "source": [
    "# answer for 3rd question\n",
    "data['Pclass'].value_counts(True)"
   ]
  },
  {
   "cell_type": "code",
   "execution_count": 8,
   "metadata": {
    "collapsed": false
   },
   "outputs": [
    {
     "data": {
      "text/plain": [
       "(29.69911764705882, 28.0)"
      ]
     },
     "execution_count": 8,
     "metadata": {},
     "output_type": "execute_result"
    }
   ],
   "source": [
    "# answer for 4th question\n",
    "(data['Age'].mean(), data['Age'].median())"
   ]
  },
  {
   "cell_type": "code",
   "execution_count": 9,
   "metadata": {
    "collapsed": false
   },
   "outputs": [
    {
     "data": {
      "text/plain": [
       "0.41483769862015613"
      ]
     },
     "execution_count": 9,
     "metadata": {},
     "output_type": "execute_result"
    }
   ],
   "source": [
    "# extracting currently needed features\n",
    "sibSp = data['SibSp']\n",
    "parch = data['Parch']\n",
    "# answer for 5th question\n",
    "sibSp.corr(parch)"
   ]
  },
  {
   "cell_type": "code",
   "execution_count": 11,
   "metadata": {
    "collapsed": false
   },
   "outputs": [],
   "source": [
    "Names = data['Name']\n",
    "Sex = data['Sex']"
   ]
  },
  {
   "cell_type": "code",
   "execution_count": 12,
   "metadata": {
    "collapsed": false
   },
   "outputs": [],
   "source": [
    "Names = Names.str.partition('.')[2]\n",
    "Names.name='Name'"
   ]
  },
  {
   "cell_type": "code",
   "execution_count": 13,
   "metadata": {
    "collapsed": false
   },
   "outputs": [],
   "source": [
    "NameSex = pandas.concat([Names, Sex], axis=1)"
   ]
  },
  {
   "cell_type": "code",
   "execution_count": 14,
   "metadata": {
    "collapsed": false
   },
   "outputs": [],
   "source": [
    "FemaleNames = NameSex[NameSex.Sex == 'female'].Name"
   ]
  },
  {
   "cell_type": "code",
   "execution_count": 17,
   "metadata": {
    "collapsed": false
   },
   "outputs": [
    {
     "data": {
      "text/plain": [
       " Mary                                           0.019108\n",
       " Bertha                                         0.012739\n",
       " Anna                                           0.009554\n",
       " Anna Sofia                                     0.009554\n",
       " Hanora \"Nora\"                                  0.006369\n",
       " Kate                                           0.006369\n",
       " Marija                                         0.006369\n",
       " Alice                                          0.006369\n",
       " Katherine \"Katie\"                              0.006369\n",
       " Ellen \"Nellie\"                                 0.006369\n",
       " Elizabeth                                      0.006369\n",
       " Constance Mirium                               0.003185\n",
       " Elina                                          0.003185\n",
       " Sinai (Miriam Sternin)                         0.003185\n",
       " Edward (Ethel Clarke)                          0.003185\n",
       " John Bradley (Florence Briggs Thayer)          0.003185\n",
       " Edward (Margaret Ann Watson)                   0.003185\n",
       " Joan                                           0.003185\n",
       " Sigrid Elisabeth                               0.003185\n",
       " Ethel                                          0.003185\n",
       " Wendla Maria                                   0.003185\n",
       " Carl Oscar (Selma Augusta Emilia Johansson)    0.003185\n",
       " Berthe Antonine (\"Mrs de Villiers\")            0.003185\n",
       " Emily                                          0.003185\n",
       " Georgette Alexandra                            0.003185\n",
       " Gladys                                         0.003185\n",
       " Marjorie                                       0.003185\n",
       " Edgar Joseph (Leila Saks)                      0.003185\n",
       " Joseph (Maria Elias)                           0.003185\n",
       " Harriet R                                      0.003185\n",
       "                                                  ...   \n",
       " Encarnacion                                    0.003185\n",
       " Hileni                                         0.003185\n",
       " Ida Sofia                                      0.003185\n",
       " Katherine \"Kate\"                               0.003185\n",
       " Joseph (Juliette Marie Louise Lafargue)        0.003185\n",
       " James (Elizabeth \"Bessie\" Inglis Milne)        0.003185\n",
       " Asuncion                                       0.003185\n",
       " Amy Zillah Elsie                               0.003185\n",
       " James Vivian (Lulu Thorne Christian)           0.003185\n",
       " Joseph (Sultana)                               0.003185\n",
       " Ingeborg Constanzia                            0.003185\n",
       " William Baird (Alice Munger)                   0.003185\n",
       " William Augustus (Marie Eugenie)               0.003185\n",
       " Ida                                            0.003185\n",
       " Mathilde                                       0.003185\n",
       " (Amelia Milley)                                0.003185\n",
       " Henry William (Clara Heinsheimer)              0.003185\n",
       " Amin S (Marie Marthe Thuillard)                0.003185\n",
       " Richard Leonard (Sallie Monypeny)              0.003185\n",
       " Virginia Ethel                                 0.003185\n",
       " James (Helene DeLaudeniere Chaput)             0.003185\n",
       " Frederick (Augusta Tyler)                      0.003185\n",
       " Hildur E                                       0.003185\n",
       " Constance Gladys                               0.003185\n",
       " Hedwig Margaritha                              0.003185\n",
       " Luise Gretchen                                 0.003185\n",
       " Ebba Iris Alfrida                              0.003185\n",
       " Dorothy Edith \"Dolly\"                          0.003185\n",
       " Marguerite Rut                                 0.003185\n",
       " Amelia                                         0.003185\n",
       "Name: Name, dtype: float64"
      ]
     },
     "execution_count": 17,
     "metadata": {},
     "output_type": "execute_result"
    }
   ],
   "source": [
    "# 1st row - answer for 6th question\n",
    "FemaleNames.value_counts(True)"
   ]
  },
  {
   "cell_type": "code",
   "execution_count": null,
   "metadata": {
    "collapsed": true
   },
   "outputs": [],
   "source": []
  }
 ],
 "metadata": {
  "anaconda-cloud": {},
  "kernelspec": {
   "display_name": "Python [conda root]",
   "language": "python",
   "name": "conda-root-py"
  },
  "language_info": {
   "codemirror_mode": {
    "name": "ipython",
    "version": 3
   },
   "file_extension": ".py",
   "mimetype": "text/x-python",
   "name": "python",
   "nbconvert_exporter": "python",
   "pygments_lexer": "ipython3",
   "version": "3.5.2"
  }
 },
 "nbformat": 4,
 "nbformat_minor": 1
}
