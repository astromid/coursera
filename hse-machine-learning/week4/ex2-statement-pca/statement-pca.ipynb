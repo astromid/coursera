{
 "cells": [
  {
   "cell_type": "code",
   "execution_count": 63,
   "metadata": {
    "collapsed": true
   },
   "outputs": [],
   "source": [
    "import pandas as pd\n",
    "import numpy as np\n",
    "from sklearn import decomposition"
   ]
  },
  {
   "cell_type": "code",
   "execution_count": 86,
   "metadata": {
    "collapsed": false
   },
   "outputs": [],
   "source": [
    "# data reading\n",
    "close_prices = pd.read_csv('close_prices.csv')\n",
    "close_prices = close_prices.drop('date', axis=1)"
   ]
  },
  {
   "cell_type": "code",
   "execution_count": 87,
   "metadata": {
    "collapsed": false
   },
   "outputs": [
    {
     "data": {
      "text/plain": [
       "PCA(copy=True, iterated_power='auto', n_components=10, random_state=None,\n",
       "  svd_solver='auto', tol=0.0, whiten=False)"
      ]
     },
     "execution_count": 87,
     "metadata": {},
     "output_type": "execute_result"
    }
   ],
   "source": [
    "# PCA\n",
    "enc_pca = decomposition.PCA(n_components=10)\n",
    "enc_pca.fit(close_prices)"
   ]
  },
  {
   "cell_type": "code",
   "execution_count": 88,
   "metadata": {
    "collapsed": false
   },
   "outputs": [
    {
     "name": "stdout",
     "output_type": "stream",
     "text": [
      "4\n"
     ]
    }
   ],
   "source": [
    "# answer for 1st question\n",
    "variance = enc_pca.explained_variance_ratio_\n",
    "sigma = 0\n",
    "N = 0\n",
    "while(sigma < 0.9):\n",
    "    sigma += variance[N]\n",
    "    N += 1\n",
    "\n",
    "print(N)"
   ]
  },
  {
   "cell_type": "code",
   "execution_count": 89,
   "metadata": {
    "collapsed": false
   },
   "outputs": [
    {
     "name": "stdout",
     "output_type": "stream",
     "text": [
      "[[ 1.          0.90965222]\n",
      " [ 0.90965222  1.        ]]\n"
     ]
    }
   ],
   "source": [
    "# PCA to original data\n",
    "close_prices_pca = enc_pca.transform(close_prices)\n",
    "first_comp = close_prices_pca[:,0]\n",
    "# reading Dow-Jones\n",
    "djia_index = pd.read_csv('djia_index.csv')\n",
    "dji = djia_index['^DJI']\n",
    "# answer for 2nd question\n",
    "corr = np.corrcoef(first_comp, dji)\n",
    "print(corr)"
   ]
  },
  {
   "cell_type": "code",
   "execution_count": 97,
   "metadata": {
    "collapsed": false
   },
   "outputs": [
    {
     "name": "stdout",
     "output_type": "stream",
     "text": [
      "V\n"
     ]
    }
   ],
   "source": [
    "# answer for 3rd question\n",
    "company_ind = np.argmax(enc_pca.components_[0])\n",
    "# get headers\n",
    "company_names = list(close_prices)\n",
    "print(company_names[company_ind])"
   ]
  }
 ],
 "metadata": {
  "anaconda-cloud": {},
  "kernelspec": {
   "display_name": "Python [conda root]",
   "language": "python",
   "name": "conda-root-py"
  },
  "language_info": {
   "codemirror_mode": {
    "name": "ipython",
    "version": 3
   },
   "file_extension": ".py",
   "mimetype": "text/x-python",
   "name": "python",
   "nbconvert_exporter": "python",
   "pygments_lexer": "ipython3",
   "version": "3.5.2"
  }
 },
 "nbformat": 4,
 "nbformat_minor": 1
}
