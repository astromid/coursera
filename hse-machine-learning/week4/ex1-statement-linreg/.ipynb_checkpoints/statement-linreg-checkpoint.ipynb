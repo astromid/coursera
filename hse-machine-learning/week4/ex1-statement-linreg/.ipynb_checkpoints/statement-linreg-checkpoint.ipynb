{
 "cells": [
  {
   "cell_type": "code",
   "execution_count": 37,
   "metadata": {
    "collapsed": true
   },
   "outputs": [],
   "source": [
    "import pandas as pd\n",
    "import numpy as np\n",
    "import scipy as sp\n",
    "from sklearn import linear_model\n",
    "from sklearn import feature_extraction"
   ]
  },
  {
   "cell_type": "code",
   "execution_count": 38,
   "metadata": {
    "collapsed": false
   },
   "outputs": [],
   "source": [
    "# data reading\n",
    "train = pd.read_csv('salary-train.csv')\n",
    "test = pd.read_csv('salary-test-mini.csv')"
   ]
  },
  {
   "cell_type": "code",
   "execution_count": 39,
   "metadata": {
    "collapsed": false
   },
   "outputs": [],
   "source": [
    "# data preprocessing\n",
    "# lowercase\n",
    "train['FullDescription'] = train['FullDescription'].str.lower()\n",
    "test['FullDescription'] = test['FullDescription'].str.lower()"
   ]
  },
  {
   "cell_type": "code",
   "execution_count": 40,
   "metadata": {
    "collapsed": false
   },
   "outputs": [],
   "source": [
    "# replace all but chars&numbers\n",
    "train['FullDescription'] = train['FullDescription'].replace('[^a-zA-Z0-9]', ' ', regex = True)\n",
    "test['FullDescription'] = test['FullDescription'].replace('[^a-zA-Z0-9]', ' ', regex = True)"
   ]
  },
  {
   "cell_type": "code",
   "execution_count": 41,
   "metadata": {
    "collapsed": false
   },
   "outputs": [],
   "source": [
    "# TF-IDF\n",
    "encoder_tf = feature_extraction.text.TfidfVectorizer(min_df=5)\n",
    "train_tf = encoder_tf.fit_transform(train['FullDescription'])\n",
    "test_tf = encoder_tf.transform(test['FullDescription'])"
   ]
  },
  {
   "cell_type": "code",
   "execution_count": 42,
   "metadata": {
    "collapsed": false
   },
   "outputs": [],
   "source": [
    "# fill NaN\n",
    "train['LocationNormalized'].fillna('nan', inplace=True)\n",
    "train['ContractTime'].fillna('nan', inplace=True)"
   ]
  },
  {
   "cell_type": "code",
   "execution_count": 43,
   "metadata": {
    "collapsed": true
   },
   "outputs": [],
   "source": [
    "# DictVectorizer\n",
    "encoder_dv = feature_extraction.DictVectorizer()\n",
    "train_cat = encoder_dv.fit_transform(train[['LocationNormalized', 'ContractTime']].to_dict('records'))\n",
    "test_cat = encoder_dv.transform(test[['LocationNormalized', 'ContractTime']].to_dict('records'))"
   ]
  },
  {
   "cell_type": "code",
   "execution_count": 47,
   "metadata": {
    "collapsed": false
   },
   "outputs": [],
   "source": [
    "# stack features into one matrix\n",
    "train_matrix = sp.sparse.hstack([train_tf, train_cat])\n",
    "test_matrix = sp.sparse.hstack([test_tf, test_cat])"
   ]
  },
  {
   "cell_type": "code",
   "execution_count": 50,
   "metadata": {
    "collapsed": false
   },
   "outputs": [
    {
     "data": {
      "text/plain": [
       "Ridge(alpha=1.0, copy_X=True, fit_intercept=True, max_iter=None,\n",
       "   normalize=False, random_state=None, solver='auto', tol=0.001)"
      ]
     },
     "execution_count": 50,
     "metadata": {},
     "output_type": "execute_result"
    }
   ],
   "source": [
    "# model fitting\n",
    "reg = linear_model.Ridge(alpha=1.0)\n",
    "reg.fit(train_matrix, train['SalaryNormalized'])"
   ]
  },
  {
   "cell_type": "code",
   "execution_count": 51,
   "metadata": {
    "collapsed": false
   },
   "outputs": [
    {
     "name": "stdout",
     "output_type": "stream",
     "text": [
      "[ 56569.24475536  37184.23346545]\n"
     ]
    }
   ],
   "source": [
    "# answer for question\n",
    "predictions = reg.predict(test_matrix)\n",
    "print(predictions)"
   ]
  }
 ],
 "metadata": {
  "anaconda-cloud": {},
  "kernelspec": {
   "display_name": "Python [conda root]",
   "language": "python",
   "name": "conda-root-py"
  },
  "language_info": {
   "codemirror_mode": {
    "name": "ipython",
    "version": 3
   },
   "file_extension": ".py",
   "mimetype": "text/x-python",
   "name": "python",
   "nbconvert_exporter": "python",
   "pygments_lexer": "ipython3",
   "version": "3.5.2"
  }
 },
 "nbformat": 4,
 "nbformat_minor": 1
}
