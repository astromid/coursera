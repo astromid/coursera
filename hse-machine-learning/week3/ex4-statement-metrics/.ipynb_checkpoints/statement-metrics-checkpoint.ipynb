{
 "cells": [
  {
   "cell_type": "code",
   "execution_count": 2,
   "metadata": {
    "collapsed": true
   },
   "outputs": [],
   "source": [
    "import sklearn.metrics\n",
    "import pandas"
   ]
  },
  {
   "cell_type": "code",
   "execution_count": 5,
   "metadata": {
    "collapsed": true
   },
   "outputs": [],
   "source": [
    "# reading data\n",
    "data = pandas.read_csv('classification.csv')"
   ]
  },
  {
   "cell_type": "code",
   "execution_count": 14,
   "metadata": {
    "collapsed": false
   },
   "outputs": [
    {
     "name": "stdout",
     "output_type": "stream",
     "text": [
      "43 34 59 64\n"
     ]
    }
   ],
   "source": [
    "# counting TP, FP, FN, TN\n",
    "TP, FP, FN, TN = 0, 0, 0, 0\n",
    "for i in range(0, len(data)):\n",
    "    if(data['true'][i] == 1):\n",
    "        if(data['pred'][i] == 1):\n",
    "            TP += 1\n",
    "        else:\n",
    "            FN += 1\n",
    "    else:\n",
    "        if(data['pred'][i] == 1):\n",
    "            FP += 1\n",
    "        else:\n",
    "            TN += 1\n",
    "# answer for 1st question\n",
    "print(TP, FP, FN, TN)"
   ]
  },
  {
   "cell_type": "code",
   "execution_count": 20,
   "metadata": {
    "collapsed": false
   },
   "outputs": [
    {
     "name": "stdout",
     "output_type": "stream",
     "text": [
      "0.535 0.558441558442 0.421568627451 0.480446927374\n"
     ]
    }
   ],
   "source": [
    "# counting accuracy, precision, recall, F1\n",
    "acc = sklearn.metrics.accuracy_score(data['true'], data['pred'])\n",
    "prec = sklearn.metrics.precision_score(data['true'], data['pred'])\n",
    "rec = sklearn.metrics.recall_score(data['true'], data['pred'])\n",
    "f1 = sklearn.metrics.f1_score(data['true'], data['pred'])\n",
    "# answer for 2nd question\n",
    "print(acc, prec, rec, f1)"
   ]
  },
  {
   "cell_type": "code",
   "execution_count": 21,
   "metadata": {
    "collapsed": false
   },
   "outputs": [],
   "source": [
    "# reading data\n",
    "data2 = pandas.read_csv('scores.csv')"
   ]
  },
  {
   "cell_type": "code",
   "execution_count": 24,
   "metadata": {
    "collapsed": false
   },
   "outputs": [
    {
     "name": "stdout",
     "output_type": "stream",
     "text": [
      "0.71918767507 0.708683473389 0.635154061625 0.691926770708\n"
     ]
    }
   ],
   "source": [
    "# counting AUC-ROC\n",
    "ar_logreg = sklearn.metrics.roc_auc_score(data2['true'], data2['score_logreg'])\n",
    "ar_svm = sklearn.metrics.roc_auc_score(data2['true'], data2['score_svm'])\n",
    "ar_knn = sklearn.metrics.roc_auc_score(data2['true'], data2['score_knn'])\n",
    "ar_tree = sklearn.metrics.roc_auc_score(data2['true'], data2['score_tree'])\n",
    "# answer for 3rd question\n",
    "print(ar_logreg, ar_svm, ar_knn, ar_tree)"
   ]
  },
  {
   "cell_type": "code",
   "execution_count": 38,
   "metadata": {
    "collapsed": false
   },
   "outputs": [
    {
     "name": "stdout",
     "output_type": "stream",
     "text": [
      "0.63025210084 0.622807017544 0.606557377049 0.651785714286\n"
     ]
    }
   ],
   "source": [
    "# PR-curve\n",
    "prec_logreg, rec_logreg, trshld_logreg = sklearn.metrics.precision_recall_curve(data2['true'], data2['score_logreg'])\n",
    "prec_svm, rec_svm, trshld_svm = sklearn.metrics.precision_recall_curve(data2['true'], data2['score_svm'])\n",
    "prec_knn, rec_knn, trshld_knn = sklearn.metrics.precision_recall_curve(data2['true'], data2['score_knn'])\n",
    "prec_tree, rec_tree, trshld_tree = sklearn.metrics.precision_recall_curve(data2['true'], data2['score_tree'])\n",
    "max_prec_70_logreg, max_prec_70_svm, max_prec_70_knn, max_prec_70_tree = 0, 0, 0, 0\n",
    "for i in range(0, len(prec_logreg)):\n",
    "    if(rec_logreg[i] >= 0.7):\n",
    "        max_prec_70_logreg = max(max_prec_70_logreg, prec_logreg[i])\n",
    "for i in range(0, len(prec_svm)):\n",
    "    if(rec_svm[i] >= 0.7):\n",
    "        max_prec_70_svm = max(max_prec_70_svm, prec_svm[i])\n",
    "for i in range(0, len(prec_knn)):\n",
    "    if(rec_knn[i] >= 0.7):\n",
    "        max_prec_70_knn = max(max_prec_70_knn, prec_knn[i])\n",
    "for i in range(0, len(prec_tree)):\n",
    "    if(rec_tree[i] >= 0.7):\n",
    "        max_prec_70_tree = max(max_prec_70_tree, prec_tree[i])\n",
    "# answer for 4th question\n",
    "print(max_prec_70_logreg, max_prec_70_svm, max_prec_70_knn, max_prec_70_tree)"
   ]
  }
 ],
 "metadata": {
  "anaconda-cloud": {},
  "kernelspec": {
   "display_name": "Python [conda root]",
   "language": "python",
   "name": "conda-root-py"
  },
  "language_info": {
   "codemirror_mode": {
    "name": "ipython",
    "version": 3
   },
   "file_extension": ".py",
   "mimetype": "text/x-python",
   "name": "python",
   "nbconvert_exporter": "python",
   "pygments_lexer": "ipython3",
   "version": "3.5.2"
  }
 },
 "nbformat": 4,
 "nbformat_minor": 1
}
