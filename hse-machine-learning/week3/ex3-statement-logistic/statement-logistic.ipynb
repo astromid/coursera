{
 "cells": [
  {
   "cell_type": "code",
   "execution_count": 52,
   "metadata": {
    "collapsed": true
   },
   "outputs": [],
   "source": [
    "import pandas as pd\n",
    "import numpy as np\n",
    "import sklearn.metrics\n",
    "from scipy.special import expit"
   ]
  },
  {
   "cell_type": "code",
   "execution_count": 53,
   "metadata": {
    "collapsed": false
   },
   "outputs": [],
   "source": [
    "# reading data\n",
    "data = pd.read_csv('data-logistic.csv', header=None)\n",
    "# feature and target extraction\n",
    "target = data[0]\n",
    "features = data.drop(0, axis=1)"
   ]
  },
  {
   "cell_type": "code",
   "execution_count": 56,
   "metadata": {
    "collapsed": false
   },
   "outputs": [],
   "source": [
    "# gradient descent(awful and uneffective implementetion :( quick&durty)\n",
    "# initial values\n",
    "w = np.zeros(2)\n",
    "# learning rate\n",
    "k = 0.1\n",
    "# regularization rate\n",
    "C = 10\n",
    "l = len(target)\n",
    "x1 = features[1]\n",
    "x2 = features[2]\n",
    "iterN = 0\n",
    "dist = 1\n",
    "while ((iterN < 10000) and (dist > 10**-5) ):\n",
    "    sum1 = 0\n",
    "    sum2 = 0\n",
    "    for i in range(0,l):\n",
    "        sigm_term = 1 - expit(target[i]*(w[0]*x1[i] + w[1]*x2[i]))\n",
    "        sum1 += target[i]*x1[i]*sigm_term\n",
    "        sum2 += target[i]*x2[i]*sigm_term\n",
    "    w_old = w.copy()\n",
    "    w[0] += (k/l)*sum1 - k*C*w[0]\n",
    "    w[1] += (k/l)*sum2 - k*C*w[1]\n",
    "    iterN += 1\n",
    "    dist = np.sqrt((w_old[0] - w[0])**2 + (w_old[1] - w[1])**2)"
   ]
  },
  {
   "cell_type": "code",
   "execution_count": 57,
   "metadata": {
    "collapsed": false
   },
   "outputs": [
    {
     "name": "stdout",
     "output_type": "stream",
     "text": [
      "0.936285714286\n"
     ]
    }
   ],
   "source": [
    "# test & AUC-ROC metrics\n",
    "predict = np.zeros(l)\n",
    "for i in range(0,l):\n",
    "    prob = expit(w[0]*x1[i] + w[1]*x2[i])\n",
    "    predict[i] = prob\n",
    "metric = sklearn.metrics.roc_auc_score(target, predict)\n",
    "# answer for the question\n",
    "print(metric)"
   ]
  },
  {
   "cell_type": "code",
   "execution_count": null,
   "metadata": {
    "collapsed": true
   },
   "outputs": [],
   "source": []
  }
 ],
 "metadata": {
  "anaconda-cloud": {},
  "kernelspec": {
   "display_name": "Python [conda root]",
   "language": "python",
   "name": "conda-root-py"
  },
  "language_info": {
   "codemirror_mode": {
    "name": "ipython",
    "version": 3
   },
   "file_extension": ".py",
   "mimetype": "text/x-python",
   "name": "python",
   "nbconvert_exporter": "python",
   "pygments_lexer": "ipython3",
   "version": "3.5.2"
  }
 },
 "nbformat": 4,
 "nbformat_minor": 1
}
